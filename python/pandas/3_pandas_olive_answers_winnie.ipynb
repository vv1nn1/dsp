{
 "cells": [
  {
   "cell_type": "markdown",
   "metadata": {},
   "source": [
    "#### Answers submitted by:  Winnie  \n",
    "#### Date:  9/12/2017  \n",
    "---"
   ]
  },
  {
   "cell_type": "markdown",
   "metadata": {},
   "source": [
    "# Python Part 3:  Pandas Exercises\n",
    "---"
   ]
  },
  {
   "cell_type": "markdown",
   "metadata": {},
   "source": [
    "## Q1:  Read in the libraries you need"
   ]
  },
  {
   "cell_type": "code",
   "execution_count": 1,
   "metadata": {
    "collapsed": true
   },
   "outputs": [],
   "source": [
    "# Python 2 & 3 Compatibility\n",
    "from __future__ import print_function, division"
   ]
  },
  {
   "cell_type": "code",
   "execution_count": 2,
   "metadata": {
    "collapsed": true
   },
   "outputs": [],
   "source": [
    "# imports a library 'pandas', names it as 'pd'\n",
    "import pandas as pd\n",
    "import numpy as np\n",
    "import matplotlib.pyplot as plt\n",
    "\n",
    "from IPython.display import Image\n",
    "\n",
    "# enables inline plots, without it plots don't show up in the notebook\n",
    "%matplotlib inline"
   ]
  },
  {
   "cell_type": "markdown",
   "metadata": {},
   "source": [
    "## Q2:  Set options in pandas so it displays `max_rows` to 10"
   ]
  },
  {
   "cell_type": "code",
   "execution_count": 3,
   "metadata": {
    "collapsed": true
   },
   "outputs": [],
   "source": [
    "# set various options in pandas\n",
    "pd.set_option('display.max_columns', None)\n",
    "pd.set_option('display.max_rows', 15)\n",
    "pd.set_option('display.precision', 3)"
   ]
  },
  {
   "cell_type": "markdown",
   "metadata": {},
   "source": [
    "## Q3:  What versions of `Python` and `pandas` are you running?  \n",
    "\n"
   ]
  },
  {
   "cell_type": "code",
   "execution_count": 4,
   "metadata": {},
   "outputs": [
    {
     "name": "stdout",
     "output_type": "stream",
     "text": [
      "Pandas version: 0.20.1\n",
      "Numpy version: 1.12.1\n"
     ]
    }
   ],
   "source": [
    "print(\"Pandas version:\",pd.__version__)\n",
    "print(\"Numpy version:\",np.__version__)"
   ]
  },
  {
   "cell_type": "code",
   "execution_count": 5,
   "metadata": {},
   "outputs": [
    {
     "name": "stdout",
     "output_type": "stream",
     "text": [
      "Python Version: 3.6.1 |Anaconda 4.4.0 (x86_64)| (default, May 11 2017, 13:04:09) \n",
      "[GCC 4.2.1 Compatible Apple LLVM 6.0 (clang-600.0.57)]\n"
     ]
    }
   ],
   "source": [
    "# confirming which version of Python I am using\n",
    "import sys\n",
    "print(\"Python Version:\", sys.version)"
   ]
  },
  {
   "cell_type": "markdown",
   "metadata": {},
   "source": [
    "## Q4:  Read in the \"olive\" dataset that is available in this folder\n",
    "Description:  572 olive oil samples from 3 different regions (and 9 sub-regions) of Italy; for each sample the normalized concentrations of 8 fatty acids are given.  \n",
    "Source:  http://www2.chemie.uni-erlangen.de/publications/ANN-book/datasets/oliveoil/\n",
    "\n",
    "There are 3 regions: \n",
    "* South\n",
    "* North\n",
    "* Sardinia\n",
    "\n",
    "There are 9 sub-regions (areas): \n",
    "* North Apulia\n",
    "* South Apulia\n",
    "* Calabria\n",
    "* Sicily\n",
    "* Inland\n",
    "* Coastal Sardinia\n",
    "* Umbria\n",
    "* East\n",
    "* West Liguria\n",
    "\n",
    "Supplemental report:  http://www.public.iastate.edu/~dicook/stat503/05/cs-olive.pdf"
   ]
  },
  {
   "cell_type": "code",
   "execution_count": 6,
   "metadata": {
    "collapsed": true
   },
   "outputs": [],
   "source": [
    "# read csv data into pandas dataframe\n",
    "df = pd.read_csv('olive.csv')"
   ]
  },
  {
   "cell_type": "markdown",
   "metadata": {},
   "source": [
    "## Q5:  How many rows and columns are in this dataframe?"
   ]
  },
  {
   "cell_type": "code",
   "execution_count": 7,
   "metadata": {},
   "outputs": [
    {
     "data": {
      "text/plain": [
       "(572, 11)"
      ]
     },
     "execution_count": 7,
     "metadata": {},
     "output_type": "execute_result"
    }
   ],
   "source": [
    "# (rows,columns)\n",
    "df.shape"
   ]
  },
  {
   "cell_type": "markdown",
   "metadata": {},
   "source": [
    "## Q6:  Print the first 4 rows of the data"
   ]
  },
  {
   "cell_type": "code",
   "execution_count": 8,
   "metadata": {},
   "outputs": [
    {
     "data": {
      "text/html": [
       "<div>\n",
       "<style>\n",
       "    .dataframe thead tr:only-child th {\n",
       "        text-align: right;\n",
       "    }\n",
       "\n",
       "    .dataframe thead th {\n",
       "        text-align: left;\n",
       "    }\n",
       "\n",
       "    .dataframe tbody tr th {\n",
       "        vertical-align: top;\n",
       "    }\n",
       "</style>\n",
       "<table border=\"1\" class=\"dataframe\">\n",
       "  <thead>\n",
       "    <tr style=\"text-align: right;\">\n",
       "      <th></th>\n",
       "      <th>Unnamed: 0</th>\n",
       "      <th>region</th>\n",
       "      <th>area</th>\n",
       "      <th>palmitic</th>\n",
       "      <th>palmitoleic</th>\n",
       "      <th>stearic</th>\n",
       "      <th>oleic</th>\n",
       "      <th>linoleic</th>\n",
       "      <th>linolenic</th>\n",
       "      <th>arachidic</th>\n",
       "      <th>eicosenoic</th>\n",
       "    </tr>\n",
       "  </thead>\n",
       "  <tbody>\n",
       "    <tr>\n",
       "      <th>0</th>\n",
       "      <td>1.North-Apulia</td>\n",
       "      <td>1</td>\n",
       "      <td>1</td>\n",
       "      <td>1075</td>\n",
       "      <td>75</td>\n",
       "      <td>226</td>\n",
       "      <td>7823</td>\n",
       "      <td>672</td>\n",
       "      <td>36</td>\n",
       "      <td>60</td>\n",
       "      <td>29</td>\n",
       "    </tr>\n",
       "    <tr>\n",
       "      <th>1</th>\n",
       "      <td>2.North-Apulia</td>\n",
       "      <td>1</td>\n",
       "      <td>1</td>\n",
       "      <td>1088</td>\n",
       "      <td>73</td>\n",
       "      <td>224</td>\n",
       "      <td>7709</td>\n",
       "      <td>781</td>\n",
       "      <td>31</td>\n",
       "      <td>61</td>\n",
       "      <td>29</td>\n",
       "    </tr>\n",
       "    <tr>\n",
       "      <th>2</th>\n",
       "      <td>3.North-Apulia</td>\n",
       "      <td>1</td>\n",
       "      <td>1</td>\n",
       "      <td>911</td>\n",
       "      <td>54</td>\n",
       "      <td>246</td>\n",
       "      <td>8113</td>\n",
       "      <td>549</td>\n",
       "      <td>31</td>\n",
       "      <td>63</td>\n",
       "      <td>29</td>\n",
       "    </tr>\n",
       "    <tr>\n",
       "      <th>3</th>\n",
       "      <td>4.North-Apulia</td>\n",
       "      <td>1</td>\n",
       "      <td>1</td>\n",
       "      <td>966</td>\n",
       "      <td>57</td>\n",
       "      <td>240</td>\n",
       "      <td>7952</td>\n",
       "      <td>619</td>\n",
       "      <td>50</td>\n",
       "      <td>78</td>\n",
       "      <td>35</td>\n",
       "    </tr>\n",
       "  </tbody>\n",
       "</table>\n",
       "</div>"
      ],
      "text/plain": [
       "       Unnamed: 0  region  area  palmitic  palmitoleic  stearic  oleic  \\\n",
       "0  1.North-Apulia       1     1      1075           75      226   7823   \n",
       "1  2.North-Apulia       1     1      1088           73      224   7709   \n",
       "2  3.North-Apulia       1     1       911           54      246   8113   \n",
       "3  4.North-Apulia       1     1       966           57      240   7952   \n",
       "\n",
       "   linoleic  linolenic  arachidic  eicosenoic  \n",
       "0       672         36         60          29  \n",
       "1       781         31         61          29  \n",
       "2       549         31         63          29  \n",
       "3       619         50         78          35  "
      ]
     },
     "execution_count": 8,
     "metadata": {},
     "output_type": "execute_result"
    }
   ],
   "source": [
    "df.head(4)"
   ]
  },
  {
   "cell_type": "markdown",
   "metadata": {},
   "source": [
    "## Q7:  How many different data types are in this dataframe, and what are the data types?"
   ]
  },
  {
   "cell_type": "code",
   "execution_count": 9,
   "metadata": {},
   "outputs": [
    {
     "data": {
      "text/plain": [
       "Unnamed: 0     object\n",
       "region          int64\n",
       "area            int64\n",
       "palmitic        int64\n",
       "palmitoleic     int64\n",
       "stearic         int64\n",
       "oleic           int64\n",
       "linoleic        int64\n",
       "linolenic       int64\n",
       "arachidic       int64\n",
       "eicosenoic      int64\n",
       "dtype: object"
      ]
     },
     "execution_count": 9,
     "metadata": {},
     "output_type": "execute_result"
    }
   ],
   "source": [
    "df.dtypes"
   ]
  },
  {
   "cell_type": "markdown",
   "metadata": {},
   "source": [
    "## Q8:  Create a new column\n",
    "### Copy the column to:  'Unnamed: 0' to 'sub_region_raw'"
   ]
  },
  {
   "cell_type": "code",
   "execution_count": 10,
   "metadata": {},
   "outputs": [
    {
     "data": {
      "text/html": [
       "<div>\n",
       "<style>\n",
       "    .dataframe thead tr:only-child th {\n",
       "        text-align: right;\n",
       "    }\n",
       "\n",
       "    .dataframe thead th {\n",
       "        text-align: left;\n",
       "    }\n",
       "\n",
       "    .dataframe tbody tr th {\n",
       "        vertical-align: top;\n",
       "    }\n",
       "</style>\n",
       "<table border=\"1\" class=\"dataframe\">\n",
       "  <thead>\n",
       "    <tr style=\"text-align: right;\">\n",
       "      <th></th>\n",
       "      <th>Unnamed: 0</th>\n",
       "      <th>region</th>\n",
       "      <th>area</th>\n",
       "      <th>palmitic</th>\n",
       "      <th>palmitoleic</th>\n",
       "      <th>stearic</th>\n",
       "      <th>oleic</th>\n",
       "      <th>linoleic</th>\n",
       "      <th>linolenic</th>\n",
       "      <th>arachidic</th>\n",
       "      <th>eicosenoic</th>\n",
       "      <th>sub_region_raw</th>\n",
       "    </tr>\n",
       "  </thead>\n",
       "  <tbody>\n",
       "    <tr>\n",
       "      <th>0</th>\n",
       "      <td>1.North-Apulia</td>\n",
       "      <td>1</td>\n",
       "      <td>1</td>\n",
       "      <td>1075</td>\n",
       "      <td>75</td>\n",
       "      <td>226</td>\n",
       "      <td>7823</td>\n",
       "      <td>672</td>\n",
       "      <td>36</td>\n",
       "      <td>60</td>\n",
       "      <td>29</td>\n",
       "      <td>1.North-Apulia</td>\n",
       "    </tr>\n",
       "    <tr>\n",
       "      <th>1</th>\n",
       "      <td>2.North-Apulia</td>\n",
       "      <td>1</td>\n",
       "      <td>1</td>\n",
       "      <td>1088</td>\n",
       "      <td>73</td>\n",
       "      <td>224</td>\n",
       "      <td>7709</td>\n",
       "      <td>781</td>\n",
       "      <td>31</td>\n",
       "      <td>61</td>\n",
       "      <td>29</td>\n",
       "      <td>2.North-Apulia</td>\n",
       "    </tr>\n",
       "    <tr>\n",
       "      <th>2</th>\n",
       "      <td>3.North-Apulia</td>\n",
       "      <td>1</td>\n",
       "      <td>1</td>\n",
       "      <td>911</td>\n",
       "      <td>54</td>\n",
       "      <td>246</td>\n",
       "      <td>8113</td>\n",
       "      <td>549</td>\n",
       "      <td>31</td>\n",
       "      <td>63</td>\n",
       "      <td>29</td>\n",
       "      <td>3.North-Apulia</td>\n",
       "    </tr>\n",
       "    <tr>\n",
       "      <th>3</th>\n",
       "      <td>4.North-Apulia</td>\n",
       "      <td>1</td>\n",
       "      <td>1</td>\n",
       "      <td>966</td>\n",
       "      <td>57</td>\n",
       "      <td>240</td>\n",
       "      <td>7952</td>\n",
       "      <td>619</td>\n",
       "      <td>50</td>\n",
       "      <td>78</td>\n",
       "      <td>35</td>\n",
       "      <td>4.North-Apulia</td>\n",
       "    </tr>\n",
       "  </tbody>\n",
       "</table>\n",
       "</div>"
      ],
      "text/plain": [
       "       Unnamed: 0  region  area  palmitic  palmitoleic  stearic  oleic  \\\n",
       "0  1.North-Apulia       1     1      1075           75      226   7823   \n",
       "1  2.North-Apulia       1     1      1088           73      224   7709   \n",
       "2  3.North-Apulia       1     1       911           54      246   8113   \n",
       "3  4.North-Apulia       1     1       966           57      240   7952   \n",
       "\n",
       "   linoleic  linolenic  arachidic  eicosenoic  sub_region_raw  \n",
       "0       672         36         60          29  1.North-Apulia  \n",
       "1       781         31         61          29  2.North-Apulia  \n",
       "2       549         31         63          29  3.North-Apulia  \n",
       "3       619         50         78          35  4.North-Apulia  "
      ]
     },
     "execution_count": 10,
     "metadata": {},
     "output_type": "execute_result"
    }
   ],
   "source": [
    "df[\"sub_region_raw\"] = df[\"Unnamed: 0\"]\n",
    "df.head(4)"
   ]
  },
  {
   "cell_type": "markdown",
   "metadata": {},
   "source": [
    "## Q9:  Rename a column\n",
    "### 'Unnamed: 0' to:  'sub_region_desc'"
   ]
  },
  {
   "cell_type": "code",
   "execution_count": 11,
   "metadata": {
    "collapsed": true
   },
   "outputs": [],
   "source": [
    "df.rename(columns = {\"Unnamed: 0\":\"sub_region_desc\"}, inplace=True)"
   ]
  },
  {
   "cell_type": "markdown",
   "metadata": {},
   "source": [
    "## Q10:  Rename the column 'area' to:  'sub_region'"
   ]
  },
  {
   "cell_type": "code",
   "execution_count": 12,
   "metadata": {},
   "outputs": [
    {
     "data": {
      "text/html": [
       "<div>\n",
       "<style>\n",
       "    .dataframe thead tr:only-child th {\n",
       "        text-align: right;\n",
       "    }\n",
       "\n",
       "    .dataframe thead th {\n",
       "        text-align: left;\n",
       "    }\n",
       "\n",
       "    .dataframe tbody tr th {\n",
       "        vertical-align: top;\n",
       "    }\n",
       "</style>\n",
       "<table border=\"1\" class=\"dataframe\">\n",
       "  <thead>\n",
       "    <tr style=\"text-align: right;\">\n",
       "      <th></th>\n",
       "      <th>sub_region_desc</th>\n",
       "      <th>region</th>\n",
       "      <th>sub_region</th>\n",
       "      <th>palmitic</th>\n",
       "      <th>palmitoleic</th>\n",
       "      <th>stearic</th>\n",
       "      <th>oleic</th>\n",
       "      <th>linoleic</th>\n",
       "      <th>linolenic</th>\n",
       "      <th>arachidic</th>\n",
       "      <th>eicosenoic</th>\n",
       "      <th>sub_region_raw</th>\n",
       "    </tr>\n",
       "  </thead>\n",
       "  <tbody>\n",
       "    <tr>\n",
       "      <th>0</th>\n",
       "      <td>1.North-Apulia</td>\n",
       "      <td>1</td>\n",
       "      <td>1</td>\n",
       "      <td>1075</td>\n",
       "      <td>75</td>\n",
       "      <td>226</td>\n",
       "      <td>7823</td>\n",
       "      <td>672</td>\n",
       "      <td>36</td>\n",
       "      <td>60</td>\n",
       "      <td>29</td>\n",
       "      <td>1.North-Apulia</td>\n",
       "    </tr>\n",
       "    <tr>\n",
       "      <th>1</th>\n",
       "      <td>2.North-Apulia</td>\n",
       "      <td>1</td>\n",
       "      <td>1</td>\n",
       "      <td>1088</td>\n",
       "      <td>73</td>\n",
       "      <td>224</td>\n",
       "      <td>7709</td>\n",
       "      <td>781</td>\n",
       "      <td>31</td>\n",
       "      <td>61</td>\n",
       "      <td>29</td>\n",
       "      <td>2.North-Apulia</td>\n",
       "    </tr>\n",
       "    <tr>\n",
       "      <th>2</th>\n",
       "      <td>3.North-Apulia</td>\n",
       "      <td>1</td>\n",
       "      <td>1</td>\n",
       "      <td>911</td>\n",
       "      <td>54</td>\n",
       "      <td>246</td>\n",
       "      <td>8113</td>\n",
       "      <td>549</td>\n",
       "      <td>31</td>\n",
       "      <td>63</td>\n",
       "      <td>29</td>\n",
       "      <td>3.North-Apulia</td>\n",
       "    </tr>\n",
       "  </tbody>\n",
       "</table>\n",
       "</div>"
      ],
      "text/plain": [
       "  sub_region_desc  region  sub_region  palmitic  palmitoleic  stearic  oleic  \\\n",
       "0  1.North-Apulia       1           1      1075           75      226   7823   \n",
       "1  2.North-Apulia       1           1      1088           73      224   7709   \n",
       "2  3.North-Apulia       1           1       911           54      246   8113   \n",
       "\n",
       "   linoleic  linolenic  arachidic  eicosenoic  sub_region_raw  \n",
       "0       672         36         60          29  1.North-Apulia  \n",
       "1       781         31         61          29  2.North-Apulia  \n",
       "2       549         31         63          29  3.North-Apulia  "
      ]
     },
     "execution_count": 12,
     "metadata": {},
     "output_type": "execute_result"
    }
   ],
   "source": [
    "df.rename(columns = {\"area\":\"sub_region\"}, inplace=True)\n",
    "df.head(3)"
   ]
  },
  {
   "cell_type": "markdown",
   "metadata": {},
   "source": [
    "## Q11:  How many unique values of 'region' are there?\n",
    "\n",
    "Hint:  the answer should be 3"
   ]
  },
  {
   "cell_type": "code",
   "execution_count": 13,
   "metadata": {},
   "outputs": [
    {
     "data": {
      "text/plain": [
       "array([1, 2, 3])"
      ]
     },
     "execution_count": 13,
     "metadata": {},
     "output_type": "execute_result"
    }
   ],
   "source": [
    "df['region'].unique()"
   ]
  },
  {
   "cell_type": "markdown",
   "metadata": {},
   "source": [
    "## Q12:  How many unique values of 'sub_region' are there?\n",
    "\n",
    "Hint:  the answer should be 9"
   ]
  },
  {
   "cell_type": "code",
   "execution_count": 14,
   "metadata": {},
   "outputs": [
    {
     "data": {
      "text/plain": [
       "array([1, 2, 3, 4, 5, 6, 9, 7, 8])"
      ]
     },
     "execution_count": 14,
     "metadata": {},
     "output_type": "execute_result"
    }
   ],
   "source": [
    "df['sub_region'].unique() "
   ]
  },
  {
   "cell_type": "markdown",
   "metadata": {},
   "source": [
    "## Q13:  How many unique values of 'sub_region_desc' are there?\n",
    "Hint:  we would like the answer to be 9, but here's where we run into some messy data"
   ]
  },
  {
   "cell_type": "code",
   "execution_count": 15,
   "metadata": {},
   "outputs": [
    {
     "data": {
      "text/plain": [
       "array(['1.North-Apulia', '2.North-Apulia', '3.North-Apulia',\n",
       "       '4.North-Apulia', '5.North-Apulia', '6.North-Apulia',\n",
       "       '7.North-Apulia', '8.North-Apulia', '9.North-Apulia',\n",
       "       '10.North-Apulia', '11.North-Apulia', '12.North-Apulia',\n",
       "       '13.North-Apulia', '14.North-Apulia', '15.North-Apulia',\n",
       "       '16.North-Apulia', '17.North-Apulia', '18.North-Apulia',\n",
       "       '19.North-Apulia', '20.North-Apulia', '21.North-Apulia',\n",
       "       '22.North-Apulia', '23.North-Apulia', '24.North-Apulia',\n",
       "       '25.North-Apulia', '26.Calabria', '27.Calabria', '28.Calabria',\n",
       "       '29.Calabria', '30.Calabria', '31.Calabria', '32.Calabria',\n",
       "       '33.Calabria', '34.Calabria', '35.Calabria', '36.Calabria',\n",
       "       '37.Calabria', '38.Calabria', '39.Calabria', '40.Calabria',\n",
       "       '41.Calabria', '42.Calabria', '43.Calabria', '44.Calabria',\n",
       "       '45.Calabria', '46.Calabria', '47.Calabria', '48.Calabria',\n",
       "       '49.Calabria', '50.Calabria', '51.Calabria', '52.Calabria',\n",
       "       '53.Calabria', '54.Calabria', '55.Calabria', '56.Calabria',\n",
       "       '57.Calabria', '58.Calabria', '59.Calabria', '60.Calabria',\n",
       "       '61.Calabria', '62.Calabria', '63.Calabria', '64.Calabria',\n",
       "       '65.Calabria', '66.Calabria', '67.Calabria', '68.Calabria',\n",
       "       '69.Calabria', '70.Calabria', '71.Calabria', '72.Calabria',\n",
       "       '73.Calabria', '74.Calabria', '75.Calabria', '76.Calabria',\n",
       "       '77.Calabria', '78.Calabria', '79.Calabria', '80.Calabria',\n",
       "       '81.Calabria', '82.South-Apulia', '83.South-Apulia',\n",
       "       '84.South-Apulia', '85.South-Apulia', '86.South-Apulia',\n",
       "       '87.South-Apulia', '88.South-Apulia', '89.South-Apulia',\n",
       "       '90.South-Apulia', '91.South-Apulia', '92.South-Apulia',\n",
       "       '93.South-Apulia', '94.South-Apulia', '95.South-Apulia',\n",
       "       '96.South-Apulia', '97.South-Apulia', '98.South-Apulia',\n",
       "       '99.South-Apulia', '100.South-Apulia', '101.South-Apulia',\n",
       "       '102.South-Apulia', '103.South-Apulia', '104.South-Apulia',\n",
       "       '105.South-Apulia', '106.South-Apulia', '107.South-Apulia',\n",
       "       '108.South-Apulia', '109.South-Apulia', '110.South-Apulia',\n",
       "       '111.South-Apulia', '112.South-Apulia', '113.South-Apulia',\n",
       "       '114.South-Apulia', '115.South-Apulia', '116.South-Apulia',\n",
       "       '117.South-Apulia', '118.South-Apulia', '119.South-Apulia',\n",
       "       '120.South-Apulia', '121.South-Apulia', '122.South-Apulia',\n",
       "       '123.South-Apulia', '124.South-Apulia', '125.South-Apulia',\n",
       "       '126.South-Apulia', '127.South-Apulia', '128.South-Apulia',\n",
       "       '129.South-Apulia', '130.South-Apulia', '131.South-Apulia',\n",
       "       '132.South-Apulia', '133.South-Apulia', '134.South-Apulia',\n",
       "       '135.South-Apulia', '136.South-Apulia', '137.South-Apulia',\n",
       "       '138.South-Apulia', '139.South-Apulia', '140.South-Apulia',\n",
       "       '141.South-Apulia', '142.South-Apulia', '143.South-Apulia',\n",
       "       '144.South-Apulia', '145.South-Apulia', '146.South-Apulia',\n",
       "       '147.South-Apulia', '148.South-Apulia', '149.South-Apulia',\n",
       "       '150.South-Apulia', '151.South-Apulia', '152.South-Apulia',\n",
       "       '153.South-Apulia', '154.South-Apulia', '155.South-Apulia',\n",
       "       '156.South-Apulia', '157.South-Apulia', '158.South-Apulia',\n",
       "       '159.South-Apulia', '160.South-Apulia', '161.South-Apulia',\n",
       "       '162.South-Apulia', '163.South-Apulia', '164.South-Apulia',\n",
       "       '165.South-Apulia', '166.South-Apulia', '167.South-Apulia',\n",
       "       '168.South-Apulia', '169.South-Apulia', '170.South-Apulia',\n",
       "       '171.South-Apulia', '172.South-Apulia', '173.South-Apulia',\n",
       "       '174.South-Apulia', '175.South-Apulia', '176.South-Apulia',\n",
       "       '177.South-Apulia', '178.South-Apulia', '179.South-Apulia',\n",
       "       '180.South-Apulia', '181.South-Apulia', '182.South-Apulia',\n",
       "       '183.South-Apulia', '184.South-Apulia', '185.South-Apulia',\n",
       "       '186.South-Apulia', '187.South-Apulia', '188.South-Apulia',\n",
       "       '189.South-Apulia', '190.South-Apulia', '191.South-Apulia',\n",
       "       '192.South-Apulia', '193.South-Apulia', '194.South-Apulia',\n",
       "       '195.South-Apulia', '196.South-Apulia', '197.South-Apulia',\n",
       "       '198.South-Apulia', '199.South-Apulia', '200.South-Apulia',\n",
       "       '201.South-Apulia', '202.South-Apulia', '203.South-Apulia',\n",
       "       '204.South-Apulia', '205.South-Apulia', '206.South-Apulia',\n",
       "       '207.South-Apulia', '208.South-Apulia', '209.South-Apulia',\n",
       "       '210.South-Apulia', '211.South-Apulia', '212.South-Apulia',\n",
       "       '213.South-Apulia', '214.South-Apulia', '215.South-Apulia',\n",
       "       '216.South-Apulia', '217.South-Apulia', '218.South-Apulia',\n",
       "       '219.South-Apulia', '220.South-Apulia', '221.South-Apulia',\n",
       "       '222.South-Apulia', '223.South-Apulia', '224.South-Apulia',\n",
       "       '225.South-Apulia', '226.South-Apulia', '227.South-Apulia',\n",
       "       '228.South-Apulia', '229.South-Apulia', '230.South-Apulia',\n",
       "       '231.South-Apulia', '232.South-Apulia', '233.South-Apulia',\n",
       "       '234.South-Apulia', '235.South-Apulia', '236.South-Apulia',\n",
       "       '237.South-Apulia', '238.South-Apulia', '239.South-Apulia',\n",
       "       '240.South-Apulia', '241.South-Apulia', '242.South-Apulia',\n",
       "       '243.South-Apulia', '244.South-Apulia', '245.South-Apulia',\n",
       "       '246.South-Apulia', '247.South-Apulia', '248.South-Apulia',\n",
       "       '249.South-Apulia', '250.South-Apulia', '251.South-Apulia',\n",
       "       '252.South-Apulia', '253.South-Apulia', '254.South-Apulia',\n",
       "       '255.South-Apulia', '256.South-Apulia', '257.South-Apulia',\n",
       "       '258.Sicily', '259.Sicily', '260.Sicily', '261.Sicily',\n",
       "       '262.Sicily', '263.Sicily', '264.Sicily', '265.Sicily',\n",
       "       '266.Sicily', '267.Sicily', '268.Sicily', '269.Sicily',\n",
       "       '270.Sicily', '271.Sicily', '272.Sicily', '273.Sicily',\n",
       "       '274.Sicily', '275.Sicily', '276.Sicily', '277.Sicily',\n",
       "       '278.Sicily', '279.Sicily', '280.Sicily', '281.Sicily',\n",
       "       '282.Sicily', '283.Sicily', '284.Sicily', '285.Sicily',\n",
       "       '286.Sicily', '287.Sicily', '288.Sicily', '289.Sicily',\n",
       "       '290.Sicily', '291.Sicily', '292.Sicily', '293.Sicily',\n",
       "       '294.South-Apulia', '295.South-Apulia', '296.South-Apulia',\n",
       "       '297.South-Apulia', '298.South-Apulia', '299.South-Apulia',\n",
       "       '300.South-Apulia', '301.South-Apulia', '302.South-Apulia',\n",
       "       '303.South-Apulia', '304.South-Apulia', '305.South-Apulia',\n",
       "       '306.South-Apulia', '307.South-Apulia', '308.South-Apulia',\n",
       "       '309.South-Apulia', '310.South-Apulia', '311.South-Apulia',\n",
       "       '312.South-Apulia', '313.South-Apulia', '314.South-Apulia',\n",
       "       '315.South-Apulia', '316.South-Apulia', '317.South-Apulia',\n",
       "       '318.South-Apulia', '319.South-Apulia', '320.South-Apulia',\n",
       "       '321.South-Apulia', '322.South-Apulia', '323.South-Apulia',\n",
       "       '324.Inland-Sardinia', '325.Inland-Sardinia', '326.Inland-Sardinia',\n",
       "       '327.Inland-Sardinia', '328.Inland-Sardinia', '329.Inland-Sardinia',\n",
       "       '330.Inland-Sardinia', '331.Inland-Sardinia', '332.Inland-Sardinia',\n",
       "       '333.Inland-Sardinia', '334.Inland-Sardinia', '335.Coast-Sardinia',\n",
       "       '336.Coast-Sardinia', '337.Coast-Sardinia', '338.Coast-Sardinia',\n",
       "       '339.Coast-Sardinia', '340.Coast-Sardinia', '341.Inland-Sardinia',\n",
       "       '342.Inland-Sardinia', '343.Inland-Sardinia', '344.Inland-Sardinia',\n",
       "       '345.Inland-Sardinia', '346.Inland-Sardinia', '347.Inland-Sardinia',\n",
       "       '348.Inland-Sardinia', '349.Inland-Sardinia', '350.Inland-Sardinia',\n",
       "       '351.Inland-Sardinia', '352.Inland-Sardinia', '353.Inland-Sardinia',\n",
       "       '354.Inland-Sardinia', '355.Inland-Sardinia', '356.Inland-Sardinia',\n",
       "       '357.Inland-Sardinia', '358.Inland-Sardinia', '359.Inland-Sardinia',\n",
       "       '360.Inland-Sardinia', '361.Inland-Sardinia', '362.Inland-Sardinia',\n",
       "       '363.Inland-Sardinia', '364.Inland-Sardinia', '365.Inland-Sardinia',\n",
       "       '366.Inland-Sardinia', '367.Inland-Sardinia', '368.Inland-Sardinia',\n",
       "       '369.Inland-Sardinia', '370.Inland-Sardinia', '371.Coast-Sardinia',\n",
       "       '372.Coast-Sardinia', '373.Coast-Sardinia', '374.Coast-Sardinia',\n",
       "       '375.Coast-Sardinia', '376.Coast-Sardinia', '377.Coast-Sardinia',\n",
       "       '378.Coast-Sardinia', '379.Coast-Sardinia', '380.Coast-Sardinia',\n",
       "       '381.Coast-Sardinia', '382.Coast-Sardinia', '383.Coast-Sardinia',\n",
       "       '384.Coast-Sardinia', '385.Coast-Sardinia', '386.Inland-Sardinia',\n",
       "       '387.Inland-Sardinia', '388.Inland-Sardinia', '389.Inland-Sardinia',\n",
       "       '390.Inland-Sardinia', '391.Inland-Sardinia', '392.Inland-Sardinia',\n",
       "       '393.Inland-Sardinia', '394.Inland-Sardinia', '395.Inland-Sardinia',\n",
       "       '396.Inland-Sardinia', '397.Inland-Sardinia', '398.Inland-Sardinia',\n",
       "       '399.Inland-Sardinia', '400.Inland-Sardinia', '401.Inland-Sardinia',\n",
       "       '402.Inland-Sardinia', '403.Inland-Sardinia', '404.Inland-Sardinia',\n",
       "       '405.Inland-Sardinia', '406.Inland-Sardinia', '407.Inland-Sardinia',\n",
       "       '408.Inland-Sardinia', '409.Inland-Sardinia', '410.Coast-Sardinia',\n",
       "       '411.Coast-Sardinia', '412.Coast-Sardinia', '413.Coast-Sardinia',\n",
       "       '414.Coast-Sardinia', '415.Coast-Sardinia', '416.Coast-Sardinia',\n",
       "       '417.Coast-Sardinia', '418.Coast-Sardinia', '419.Coast-Sardinia',\n",
       "       '420.Coast-Sardinia', '421.Coast-Sardinia', '422.Umbria',\n",
       "       '423.Umbria', '424.Umbria', '425.Umbria', '426.Umbria',\n",
       "       '427.Umbria', '428.Umbria', '429.Umbria', '430.Umbria',\n",
       "       '431.Umbria', '432.Umbria', '433.Umbria', '434.Umbria',\n",
       "       '435.Umbria', '436.Umbria', '437.Umbria', '438.Umbria',\n",
       "       '439.Umbria', '440.Umbria', '441.Umbria', '442.Umbria',\n",
       "       '443.Umbria', '444.Umbria', '445.Umbria', '446.Umbria',\n",
       "       '447.Umbria', '448.Umbria', '449.Umbria', '450.Umbria',\n",
       "       '451.Umbria', '452.Umbria', '453.Umbria', '454.Umbria',\n",
       "       '455.Umbria', '456.Umbria', '457.Umbria', '458.Umbria',\n",
       "       '459.Umbria', '460.Umbria', '461.Umbria', '462.Umbria',\n",
       "       '463.Umbria', '464.Umbria', '465.Umbria', '466.Umbria',\n",
       "       '467.Umbria', '468.Umbria', '469.Umbria', '470.Umbria',\n",
       "       '471.Umbria', '472.Umbria', '473.East-Liguria', '474.East-Liguria',\n",
       "       '475.East-Liguria', '476.East-Liguria', '477.East-Liguria',\n",
       "       '478.East-Liguria', '479.East-Liguria', '480.East-Liguria',\n",
       "       '481.East-Liguria', '482.East-Liguria', '483.East-Liguria',\n",
       "       '484.East-Liguria', '485.East-Liguria', '486.East-Liguria',\n",
       "       '487.East-Liguria', '488.East-Liguria', '489.East-Liguria',\n",
       "       '490.East-Liguria', '491.East-Liguria', '492.East-Liguria',\n",
       "       '493.East-Liguria', '494.East-Liguria', '495.East-Liguria',\n",
       "       '496.East-Liguria', '497.East-Liguria', '498.East-Liguria',\n",
       "       '499.East-Liguria', '500.East-Liguria', '501.East-Liguria',\n",
       "       '502.East-Liguria', '503.East-Liguria', '504.East-Liguria',\n",
       "       '505.East-Liguria', '506.East-Liguria', '507.East-Liguria',\n",
       "       '508.East-Liguria', '509.East-Liguria', '510.East-Liguria',\n",
       "       '511.East-Liguria', '512.East-Liguria', '513.East-Liguria',\n",
       "       '514.East-Liguria', '515.East-Liguria', '516.East-Liguria',\n",
       "       '517.East-Liguria', '518.East-Liguria', '519.East-Liguria',\n",
       "       '520.East-Liguria', '521.East-Liguria', '522.East-Liguria',\n",
       "       '523.West-Liguria', '524.West-Liguria', '525.West-Liguria',\n",
       "       '526.West-Liguria', '527.West-Liguria', '528.West-Liguria',\n",
       "       '529.West-Liguria', '530.West-Liguria', '531.West-Liguria',\n",
       "       '532.West-Liguria', '533.West-Liguria', '534.West-Liguria',\n",
       "       '535.West-Liguria', '536.West-Liguria', '537.West-Liguria',\n",
       "       '538.West-Liguria', '539.West-Liguria', '540.West-Liguria',\n",
       "       '541.West-Liguria', '542.West-Liguria', '543.West-Liguria',\n",
       "       '544.West-Liguria', '545.West-Liguria', '546.West-Liguria',\n",
       "       '547.West-Liguria', '548.West-Liguria', '549.West-Liguria',\n",
       "       '550.West-Liguria', '551.West-Liguria', '552.West-Liguria',\n",
       "       '553.West-Liguria', '554.West-Liguria', '555.West-Liguria',\n",
       "       '556.West-Liguria', '557.West-Liguria', '558.West-Liguria',\n",
       "       '559.West-Liguria', '560.West-Liguria', '561.West-Liguria',\n",
       "       '562.West-Liguria', '563.West-Liguria', '564.West-Liguria',\n",
       "       '565.West-Liguria', '566.West-Liguria', '567.West-Liguria',\n",
       "       '568.West-Liguria', '569.West-Liguria', '570.West-Liguria',\n",
       "       '571.West-Liguria', '572.West-Liguria'], dtype=object)"
      ]
     },
     "execution_count": 15,
     "metadata": {},
     "output_type": "execute_result"
    }
   ],
   "source": [
    " df['sub_region_desc'].unique() "
   ]
  },
  {
   "cell_type": "markdown",
   "metadata": {},
   "source": [
    "## Q14:  Looks like 'sub_region_desc' has line numbers attached to the beginning of region name.  We need to do some data cleaning.  Can you remove them?  \n",
    "```\n",
    " \tregion \tsub_region \tpalmitic \tpalmitoleic \tstearic \toleic \tlinoleic \tlinolenic \tarachidic \teicosenoic \tsub_region_raw\n",
    "sub_region_desc \t\t\t\t\t\t\t\t\t\t\t\n",
    "1.North-Apulia \t1 \t1 \t1 \t1 \t1 \t1 \t1 \t1 \t1 \t1 \t1\n",
    "10.North-Apulia \t1 \t1 \t1 \t1 \t1 \t1 \t1 \t1 \t1 \t1 \t1\n",
    "100.South-Apulia \t1 \t1 \t1 \t1 \t1 \t1 \t1 \t1 \t1 \t1 \t1\n",
    "101.South-Apulia \t1 \t1 \t1 \t1 \t1 \t1 \t1 \t1 \t1 \t1 \t1\n",
    "102.South-Apulia \t1 \t1 \t1 \t1 \t1 \t1 \t1 \t1 \t1 \t1 \t1\n",
    "```\n",
    "\n",
    "Hint:  check out this link\n",
    "http://stackoverflow.com/questions/39583264/pandas-strip-numbers-and-parenthesis-from-string\n",
    " "
   ]
  },
  {
   "cell_type": "code",
   "execution_count": 16,
   "metadata": {
    "collapsed": true
   },
   "outputs": [],
   "source": [
    "df['sub_region_desc'] = df.replace(regex=True,to_replace= r'\\d+\\.', value='')"
   ]
  },
  {
   "cell_type": "code",
   "execution_count": 17,
   "metadata": {},
   "outputs": [
    {
     "data": {
      "text/html": [
       "<div>\n",
       "<style>\n",
       "    .dataframe thead tr:only-child th {\n",
       "        text-align: right;\n",
       "    }\n",
       "\n",
       "    .dataframe thead th {\n",
       "        text-align: left;\n",
       "    }\n",
       "\n",
       "    .dataframe tbody tr th {\n",
       "        vertical-align: top;\n",
       "    }\n",
       "</style>\n",
       "<table border=\"1\" class=\"dataframe\">\n",
       "  <thead>\n",
       "    <tr style=\"text-align: right;\">\n",
       "      <th></th>\n",
       "      <th>sub_region_desc</th>\n",
       "      <th>region</th>\n",
       "      <th>sub_region</th>\n",
       "      <th>palmitic</th>\n",
       "      <th>palmitoleic</th>\n",
       "      <th>stearic</th>\n",
       "      <th>oleic</th>\n",
       "      <th>linoleic</th>\n",
       "      <th>linolenic</th>\n",
       "      <th>arachidic</th>\n",
       "      <th>eicosenoic</th>\n",
       "      <th>sub_region_raw</th>\n",
       "    </tr>\n",
       "  </thead>\n",
       "  <tbody>\n",
       "    <tr>\n",
       "      <th>0</th>\n",
       "      <td>North-Apulia</td>\n",
       "      <td>1</td>\n",
       "      <td>1</td>\n",
       "      <td>1075</td>\n",
       "      <td>75</td>\n",
       "      <td>226</td>\n",
       "      <td>7823</td>\n",
       "      <td>672</td>\n",
       "      <td>36</td>\n",
       "      <td>60</td>\n",
       "      <td>29</td>\n",
       "      <td>1.North-Apulia</td>\n",
       "    </tr>\n",
       "    <tr>\n",
       "      <th>1</th>\n",
       "      <td>North-Apulia</td>\n",
       "      <td>1</td>\n",
       "      <td>1</td>\n",
       "      <td>1088</td>\n",
       "      <td>73</td>\n",
       "      <td>224</td>\n",
       "      <td>7709</td>\n",
       "      <td>781</td>\n",
       "      <td>31</td>\n",
       "      <td>61</td>\n",
       "      <td>29</td>\n",
       "      <td>2.North-Apulia</td>\n",
       "    </tr>\n",
       "    <tr>\n",
       "      <th>2</th>\n",
       "      <td>North-Apulia</td>\n",
       "      <td>1</td>\n",
       "      <td>1</td>\n",
       "      <td>911</td>\n",
       "      <td>54</td>\n",
       "      <td>246</td>\n",
       "      <td>8113</td>\n",
       "      <td>549</td>\n",
       "      <td>31</td>\n",
       "      <td>63</td>\n",
       "      <td>29</td>\n",
       "      <td>3.North-Apulia</td>\n",
       "    </tr>\n",
       "    <tr>\n",
       "      <th>3</th>\n",
       "      <td>North-Apulia</td>\n",
       "      <td>1</td>\n",
       "      <td>1</td>\n",
       "      <td>966</td>\n",
       "      <td>57</td>\n",
       "      <td>240</td>\n",
       "      <td>7952</td>\n",
       "      <td>619</td>\n",
       "      <td>50</td>\n",
       "      <td>78</td>\n",
       "      <td>35</td>\n",
       "      <td>4.North-Apulia</td>\n",
       "    </tr>\n",
       "    <tr>\n",
       "      <th>4</th>\n",
       "      <td>North-Apulia</td>\n",
       "      <td>1</td>\n",
       "      <td>1</td>\n",
       "      <td>1051</td>\n",
       "      <td>67</td>\n",
       "      <td>259</td>\n",
       "      <td>7771</td>\n",
       "      <td>672</td>\n",
       "      <td>50</td>\n",
       "      <td>80</td>\n",
       "      <td>46</td>\n",
       "      <td>5.North-Apulia</td>\n",
       "    </tr>\n",
       "  </tbody>\n",
       "</table>\n",
       "</div>"
      ],
      "text/plain": [
       "  sub_region_desc  region  sub_region  palmitic  palmitoleic  stearic  oleic  \\\n",
       "0    North-Apulia       1           1      1075           75      226   7823   \n",
       "1    North-Apulia       1           1      1088           73      224   7709   \n",
       "2    North-Apulia       1           1       911           54      246   8113   \n",
       "3    North-Apulia       1           1       966           57      240   7952   \n",
       "4    North-Apulia       1           1      1051           67      259   7771   \n",
       "\n",
       "   linoleic  linolenic  arachidic  eicosenoic  sub_region_raw  \n",
       "0       672         36         60          29  1.North-Apulia  \n",
       "1       781         31         61          29  2.North-Apulia  \n",
       "2       549         31         63          29  3.North-Apulia  \n",
       "3       619         50         78          35  4.North-Apulia  \n",
       "4       672         50         80          46  5.North-Apulia  "
      ]
     },
     "execution_count": 17,
     "metadata": {},
     "output_type": "execute_result"
    }
   ],
   "source": [
    "df.head()"
   ]
  },
  {
   "cell_type": "markdown",
   "metadata": {},
   "source": [
    "## Q15:  Try again:  How many unique values of 'sub_region_desc' are there?\n",
    "Hint:  you should see 9 of them!"
   ]
  },
  {
   "cell_type": "code",
   "execution_count": 18,
   "metadata": {},
   "outputs": [
    {
     "data": {
      "text/plain": [
       "array(['North-Apulia', 'Calabria', 'South-Apulia', 'Sicily',\n",
       "       'Inland-Sardinia', 'Coast-Sardinia', 'Umbria', 'East-Liguria',\n",
       "       'West-Liguria'], dtype=object)"
      ]
     },
     "execution_count": 18,
     "metadata": {},
     "output_type": "execute_result"
    }
   ],
   "source": [
    "df['sub_region_desc'].unique()"
   ]
  },
  {
   "cell_type": "markdown",
   "metadata": {},
   "source": [
    "## Q16:   Create a horizontal frequency barplot for 'region'"
   ]
  },
  {
   "cell_type": "code",
   "execution_count": 19,
   "metadata": {},
   "outputs": [
    {
     "data": {
      "text/plain": [
       "<matplotlib.axes._subplots.AxesSubplot at 0x116603780>"
      ]
     },
     "execution_count": 19,
     "metadata": {},
     "output_type": "execute_result"
    },
    {
     "data": {
      "image/png": "[encoded data removed]",
      "text/plain": [
       "<matplotlib.figure.Figure at 0x116516908>"
      ]
     },
     "metadata": {},
     "output_type": "display_data"
    }
   ],
   "source": [
    " df['region'].value_counts().plot('barh')"
   ]
  },
  {
   "cell_type": "markdown",
   "metadata": {},
   "source": [
    "## Q17:   Create a horizontal frequency barplot for 'sub_region'"
   ]
  },
  {
   "cell_type": "code",
   "execution_count": 20,
   "metadata": {},
   "outputs": [
    {
     "data": {
      "text/plain": [
       "<matplotlib.axes._subplots.AxesSubplot at 0x11663ed68>"
      ]
     },
     "execution_count": 20,
     "metadata": {},
     "output_type": "execute_result"
    },
    {
     "data": {
      "image/png": "[encoded data removed]",
      "text/plain": [
       "<matplotlib.figure.Figure at 0x119989b38>"
      ]
     },
     "metadata": {},
     "output_type": "display_data"
    }
   ],
   "source": [
    "df['sub_region'].value_counts().plot('barh')"
   ]
  },
  {
   "cell_type": "markdown",
   "metadata": {},
   "source": [
    "## Q18:   Create a horizontal frequency barplot for 'sub_region_desc'"
   ]
  },
  {
   "cell_type": "code",
   "execution_count": 21,
   "metadata": {},
   "outputs": [
    {
     "data": {
      "image/png": "[encoded data removed]",
      "text/plain": [
       "<matplotlib.figure.Figure at 0x119b57b70>"
      ]
     },
     "metadata": {},
     "output_type": "display_data"
    }
   ],
   "source": [
    "df['sub_region_desc'].value_counts().plot('barh').invert_yaxis()"
   ]
  }
 ],
 "metadata": {
  "anaconda-cloud": {},
  "kernelspec": {
   "display_name": "Python 3",
   "language": "python",
   "name": "python3"
  },
  "language_info": {
   "codemirror_mode": {
    "name": "ipython",
    "version": 3
   },
   "file_extension": ".py",
   "mimetype": "text/x-python",
   "name": "python",
   "nbconvert_exporter": "python",
   "pygments_lexer": "ipython3",
   "version": "3.6.1"
  }
 },
 "nbformat": 4,
 "nbformat_minor": 1
}
